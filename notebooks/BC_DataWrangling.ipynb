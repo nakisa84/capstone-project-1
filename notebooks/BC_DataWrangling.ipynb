{
 "cells": [
  {
   "cell_type": "markdown",
   "metadata": {
    "colab_type": "text",
    "id": "view-in-github"
   },
   "source": [
    "<a href=\"https://colab.research.google.com/github/nakisa84/Springboard/blob/main/capston%202%20project/notebooks/BC_DataWrangling.ipynb\" target=\"_parent\"><img src=\"https://colab.research.google.com/assets/colab-badge.svg\" alt=\"Open In Colab\"/></a>"
   ]
  },
  {
   "cell_type": "markdown",
   "metadata": {
    "id": "e9a14494"
   },
   "source": [
    "# Breast Cancer Survival Prediction Data wrangling\n",
    "\n",
    "\n"
   ]
  },
  {
   "cell_type": "markdown",
   "metadata": {
    "id": "b41d68cb"
   },
   "source": [
    "In this notebook we will load, define and clean the data loaded from https://ieee-dataport.org/open-access/seer-breast-cancer-data#files"
   ]
  },
  {
   "cell_type": "code",
   "execution_count": 2,
   "metadata": {
    "colab": {
     "base_uri": "https://localhost:8080/"
    },
    "id": "747bda98",
    "outputId": "3024e200-c384-454e-8cf0-98d0729999d2"
   },
   "outputs": [],
   "source": [
    "#import all the libraries\n",
    "import numpy as np\n",
    "import pandas as pd\n",
    "import matplotlib.pyplot as plt\n",
    "import seaborn as sns\n",
    "\n",
    "#import statsmodels.api as sm\n",
    "\n",
    "#sklearn packages\n",
    "from sklearn import preprocessing\n",
    "from sklearn.preprocessing import OneHotEncoder\n",
    "\n",
    "#panda profiling\n",
    "#from pandas_profiling import ProfileReport\n",
    "from statsmodels.stats.outliers_influence import variance_inflation_factor\n",
    "\n",
    "\n",
    "import library.utils"
   ]
  },
  {
   "cell_type": "code",
   "execution_count": null,
   "metadata": {
    "colab": {
     "base_uri": "https://localhost:8080/"
    },
    "id": "-ylBTQzTSPNZ",
    "outputId": "ff09e958-beb2-4cbc-e84b-2762b023b021"
   },
   "outputs": [
    {
     "name": "stdout",
     "output_type": "stream",
     "text": [
      "Mounted at /content/drive\n",
      "ls: cannot access '/content/drive/My Drive/Springbaord/capston 2 project/data': No such file or directory\n"
     ]
    }
   ],
   "source": [
    "# Loading from colan environment \n",
    "# from google.colab import drive\n",
    "# drive.mount('/content/drive')\n",
    "# !ls \"/content/drive/My Drive/Springbaord/capston 2 project/data\""
   ]
  },
  {
   "cell_type": "markdown",
   "metadata": {
    "id": "62b0d960"
   },
   "source": [
    "### 1-1: Data collection "
   ]
  },
  {
   "cell_type": "code",
   "execution_count": 3,
   "metadata": {
    "id": "e55627d8"
   },
   "outputs": [],
   "source": [
    "#load the dataset from colab drive\n",
    "#file_name = '/content/drive/My Drive/Springboard/capston 2 project/data/SEER_Breast_Cancer_Dataset.csv'\n",
    "\n",
    "#load the dataset in Jupyter\n",
    "file_name = '../data/SEER_Breast_Cancer_Dataset.csv'\n",
    "\n",
    "df_raw = pd.read_csv(file_name)"
   ]
  },
  {
   "cell_type": "code",
   "execution_count": 29,
   "metadata": {
    "colab": {
     "base_uri": "https://localhost:8080/",
     "height": 484
    },
    "id": "a65e81b6",
    "outputId": "f57003b6-cde1-4411-aeb5-309e236d8514"
   },
   "outputs": [
    {
     "data": {
      "text/html": [
       "<div>\n",
       "<style scoped>\n",
       "    .dataframe tbody tr th:only-of-type {\n",
       "        vertical-align: middle;\n",
       "    }\n",
       "\n",
       "    .dataframe tbody tr th {\n",
       "        vertical-align: top;\n",
       "    }\n",
       "\n",
       "    .dataframe thead th {\n",
       "        text-align: right;\n",
       "    }\n",
       "</style>\n",
       "<table border=\"1\" class=\"dataframe\">\n",
       "  <thead>\n",
       "    <tr style=\"text-align: right;\">\n",
       "      <th></th>\n",
       "      <th>Age</th>\n",
       "      <th>Race</th>\n",
       "      <th>Marital Status</th>\n",
       "      <th>Unnamed: 3</th>\n",
       "      <th>T Stage</th>\n",
       "      <th>N Stage</th>\n",
       "      <th>6th Stage</th>\n",
       "      <th>Grade</th>\n",
       "      <th>A Stage</th>\n",
       "      <th>Tumor Size</th>\n",
       "      <th>Estrogen Status</th>\n",
       "      <th>Progesterone Status</th>\n",
       "      <th>Regional Node Examined</th>\n",
       "      <th>Reginol Node Positive</th>\n",
       "      <th>Survival Months</th>\n",
       "      <th>Status</th>\n",
       "    </tr>\n",
       "  </thead>\n",
       "  <tbody>\n",
       "    <tr>\n",
       "      <th>0</th>\n",
       "      <td>43</td>\n",
       "      <td>Other (American Indian/AK Native, Asian/Pacifi...</td>\n",
       "      <td>Married (including common law)</td>\n",
       "      <td>NaN</td>\n",
       "      <td>T2</td>\n",
       "      <td>N3</td>\n",
       "      <td>IIIC</td>\n",
       "      <td>Moderately differentiated; Grade II</td>\n",
       "      <td>Regional</td>\n",
       "      <td>40</td>\n",
       "      <td>Positive</td>\n",
       "      <td>Positive</td>\n",
       "      <td>19</td>\n",
       "      <td>11</td>\n",
       "      <td>1</td>\n",
       "      <td>Alive</td>\n",
       "    </tr>\n",
       "    <tr>\n",
       "      <th>1</th>\n",
       "      <td>47</td>\n",
       "      <td>Other (American Indian/AK Native, Asian/Pacifi...</td>\n",
       "      <td>Married (including common law)</td>\n",
       "      <td>NaN</td>\n",
       "      <td>T2</td>\n",
       "      <td>N2</td>\n",
       "      <td>IIIA</td>\n",
       "      <td>Moderately differentiated; Grade II</td>\n",
       "      <td>Regional</td>\n",
       "      <td>45</td>\n",
       "      <td>Positive</td>\n",
       "      <td>Positive</td>\n",
       "      <td>25</td>\n",
       "      <td>9</td>\n",
       "      <td>2</td>\n",
       "      <td>Alive</td>\n",
       "    </tr>\n",
       "    <tr>\n",
       "      <th>2</th>\n",
       "      <td>67</td>\n",
       "      <td>White</td>\n",
       "      <td>Married (including common law)</td>\n",
       "      <td>NaN</td>\n",
       "      <td>T2</td>\n",
       "      <td>N1</td>\n",
       "      <td>IIB</td>\n",
       "      <td>Poorly differentiated; Grade III</td>\n",
       "      <td>Regional</td>\n",
       "      <td>25</td>\n",
       "      <td>Positive</td>\n",
       "      <td>Positive</td>\n",
       "      <td>4</td>\n",
       "      <td>1</td>\n",
       "      <td>2</td>\n",
       "      <td>Dead</td>\n",
       "    </tr>\n",
       "    <tr>\n",
       "      <th>3</th>\n",
       "      <td>46</td>\n",
       "      <td>White</td>\n",
       "      <td>Divorced</td>\n",
       "      <td>NaN</td>\n",
       "      <td>T1</td>\n",
       "      <td>N1</td>\n",
       "      <td>IIA</td>\n",
       "      <td>Moderately differentiated; Grade II</td>\n",
       "      <td>Regional</td>\n",
       "      <td>19</td>\n",
       "      <td>Positive</td>\n",
       "      <td>Positive</td>\n",
       "      <td>26</td>\n",
       "      <td>1</td>\n",
       "      <td>2</td>\n",
       "      <td>Dead</td>\n",
       "    </tr>\n",
       "    <tr>\n",
       "      <th>4</th>\n",
       "      <td>63</td>\n",
       "      <td>White</td>\n",
       "      <td>Married (including common law)</td>\n",
       "      <td>NaN</td>\n",
       "      <td>T2</td>\n",
       "      <td>N2</td>\n",
       "      <td>IIIA</td>\n",
       "      <td>Moderately differentiated; Grade II</td>\n",
       "      <td>Regional</td>\n",
       "      <td>35</td>\n",
       "      <td>Positive</td>\n",
       "      <td>Positive</td>\n",
       "      <td>21</td>\n",
       "      <td>5</td>\n",
       "      <td>3</td>\n",
       "      <td>Dead</td>\n",
       "    </tr>\n",
       "  </tbody>\n",
       "</table>\n",
       "</div>"
      ],
      "text/plain": [
       "   Age                                              Race   \\\n",
       "0   43  Other (American Indian/AK Native, Asian/Pacifi...   \n",
       "1   47  Other (American Indian/AK Native, Asian/Pacifi...   \n",
       "2   67                                              White   \n",
       "3   46                                              White   \n",
       "4   63                                              White   \n",
       "\n",
       "                   Marital Status  Unnamed: 3 T Stage  N Stage 6th Stage  \\\n",
       "0  Married (including common law)         NaN       T2      N3      IIIC   \n",
       "1  Married (including common law)         NaN       T2      N2      IIIA   \n",
       "2  Married (including common law)         NaN       T2      N1       IIB   \n",
       "3                        Divorced         NaN       T1      N1       IIA   \n",
       "4  Married (including common law)         NaN       T2      N2      IIIA   \n",
       "\n",
       "                                 Grade   A Stage  Tumor Size Estrogen Status  \\\n",
       "0  Moderately differentiated; Grade II  Regional          40        Positive   \n",
       "1  Moderately differentiated; Grade II  Regional          45        Positive   \n",
       "2     Poorly differentiated; Grade III  Regional          25        Positive   \n",
       "3  Moderately differentiated; Grade II  Regional          19        Positive   \n",
       "4  Moderately differentiated; Grade II  Regional          35        Positive   \n",
       "\n",
       "  Progesterone Status  Regional Node Examined  Reginol Node Positive  \\\n",
       "0            Positive                      19                     11   \n",
       "1            Positive                      25                      9   \n",
       "2            Positive                       4                      1   \n",
       "3            Positive                      26                      1   \n",
       "4            Positive                      21                      5   \n",
       "\n",
       "   Survival Months Status  \n",
       "0                1  Alive  \n",
       "1                2  Alive  \n",
       "2                2   Dead  \n",
       "3                2   Dead  \n",
       "4                3   Dead  "
      ]
     },
     "execution_count": 29,
     "metadata": {},
     "output_type": "execute_result"
    }
   ],
   "source": [
    "#display the sample of data\n",
    "df_raw.head()"
   ]
  },
  {
   "cell_type": "code",
   "execution_count": 30,
   "metadata": {
    "colab": {
     "base_uri": "https://localhost:8080/"
    },
    "id": "8c47c8e3",
    "outputId": "4b978936-1380-4616-dddd-ddd1660a0a50"
   },
   "outputs": [
    {
     "name": "stdout",
     "output_type": "stream",
     "text": [
      "<class 'pandas.core.frame.DataFrame'>\n",
      "RangeIndex: 4024 entries, 0 to 4023\n",
      "Data columns (total 16 columns):\n",
      "Age                       4024 non-null int64\n",
      "Race                      4024 non-null object\n",
      "Marital Status            4024 non-null object\n",
      "Unnamed: 3                0 non-null float64\n",
      "T Stage                   4024 non-null object\n",
      "N Stage                   4024 non-null object\n",
      "6th Stage                 4024 non-null object\n",
      "Grade                     4024 non-null object\n",
      "A Stage                   4024 non-null object\n",
      "Tumor Size                4024 non-null int64\n",
      "Estrogen Status           4024 non-null object\n",
      "Progesterone Status       4024 non-null object\n",
      "Regional Node Examined    4024 non-null int64\n",
      "Reginol Node Positive     4024 non-null int64\n",
      "Survival Months           4024 non-null int64\n",
      "Status                    4024 non-null object\n",
      "dtypes: float64(1), int64(5), object(10)\n",
      "memory usage: 503.1+ KB\n"
     ]
    }
   ],
   "source": [
    "#get the summary of data\n",
    "df_raw.info()"
   ]
  },
  {
   "cell_type": "code",
   "execution_count": 4,
   "metadata": {
    "id": "40c09c16"
   },
   "outputs": [],
   "source": [
    "#drop the empty column \n",
    "df_raw.drop(columns = ['Unnamed: 3'], inplace = True)"
   ]
  },
  {
   "cell_type": "code",
   "execution_count": 5,
   "metadata": {
    "colab": {
     "base_uri": "https://localhost:8080/"
    },
    "id": "b56d4364",
    "outputId": "334949d3-8a17-4df9-f2e8-5de141765282",
    "scrolled": false
   },
   "outputs": [
    {
     "name": "stdout",
     "output_type": "stream",
     "text": [
      "<class 'pandas.core.frame.DataFrame'>\n",
      "RangeIndex: 4024 entries, 0 to 4023\n",
      "Data columns (total 15 columns):\n",
      " #   Column                  Non-Null Count  Dtype \n",
      "---  ------                  --------------  ----- \n",
      " 0   Age                     4024 non-null   int64 \n",
      " 1   Race                    4024 non-null   object\n",
      " 2   Marital Status          4024 non-null   object\n",
      " 3   T Stage                 4024 non-null   object\n",
      " 4   N Stage                 4024 non-null   object\n",
      " 5   6th Stage               4024 non-null   object\n",
      " 6   Grade                   4024 non-null   object\n",
      " 7   A Stage                 4024 non-null   object\n",
      " 8   Tumor Size              4024 non-null   int64 \n",
      " 9   Estrogen Status         4024 non-null   object\n",
      " 10  Progesterone Status     4024 non-null   object\n",
      " 11  Regional Node Examined  4024 non-null   int64 \n",
      " 12  Reginol Node Positive   4024 non-null   int64 \n",
      " 13  Survival Months         4024 non-null   int64 \n",
      " 14  Status                  4024 non-null   object\n",
      "dtypes: int64(5), object(10)\n",
      "memory usage: 471.7+ KB\n"
     ]
    }
   ],
   "source": [
    "df_raw.info()"
   ]
  },
  {
   "cell_type": "markdown",
   "metadata": {
    "id": "2d56c1e4"
   },
   "source": [
    "### 1-2: Data Definition \n",
    "\n",
    "As seen in the info above, there are 10 categorical columns and 5 numerical columns.\n",
    "There seems to be no null value for all the records."
   ]
  },
  {
   "cell_type": "markdown",
   "metadata": {
    "id": "65476d12"
   },
   "source": [
    "\n",
    "To be abale to do proper statical analysis we are going to convert the categorical columns to numberical data"
   ]
  },
  {
   "cell_type": "code",
   "execution_count": 33,
   "metadata": {
    "colab": {
     "base_uri": "https://localhost:8080/"
    },
    "id": "bc1bbaed",
    "outputId": "9ac747f5-e121-43c5-8255-4c0c6067f842"
   },
   "outputs": [
    {
     "data": {
      "text/plain": [
       "Index(['Age', 'Race ', 'Marital Status', 'T Stage ', 'N Stage', '6th Stage',\n",
       "       'Grade', 'A Stage', 'Tumor Size', 'Estrogen Status',\n",
       "       'Progesterone Status', 'Regional Node Examined',\n",
       "       'Reginol Node Positive', 'Survival Months', 'Status'],\n",
       "      dtype='object')"
      ]
     },
     "execution_count": 33,
     "metadata": {},
     "output_type": "execute_result"
    }
   ],
   "source": [
    "#check the columns name \n",
    "df_raw.columns"
   ]
  },
  {
   "cell_type": "code",
   "execution_count": 6,
   "metadata": {
    "id": "c344a6a5"
   },
   "outputs": [],
   "source": [
    "#fix \"Race\" and \"T Stage\" column name and remove the space \n",
    "df = df_raw.rename(columns={'Race ':'Race','T Stage ':'T Stage'})"
   ]
  },
  {
   "cell_type": "code",
   "execution_count": 35,
   "metadata": {
    "colab": {
     "base_uri": "https://localhost:8080/"
    },
    "id": "29b99978",
    "outputId": "1b14f2f6-6772-4fbb-ef60-ffb38cc24340"
   },
   "outputs": [
    {
     "data": {
      "text/plain": [
       "Index(['Race', 'Marital Status', 'T Stage', 'N Stage', '6th Stage', 'Grade',\n",
       "       'A Stage', 'Estrogen Status', 'Progesterone Status', 'Status'],\n",
       "      dtype='object')"
      ]
     },
     "execution_count": 35,
     "metadata": {},
     "output_type": "execute_result"
    }
   ],
   "source": [
    "#all the columns with object datatype \n",
    "objetc_columns = df.dtypes[df.dtypes == object]\n",
    "objetc_columns.index"
   ]
  },
  {
   "cell_type": "code",
   "execution_count": 36,
   "metadata": {
    "colab": {
     "base_uri": "https://localhost:8080/"
    },
    "id": "kvL4kex4E13v",
    "outputId": "b99efdc2-d818-4b49-a3ec-c334f7746154"
   },
   "outputs": [
    {
     "name": "stdout",
     "output_type": "stream",
     "text": [
      "['Moderately differentiated; Grade II' 'Poorly differentiated; Grade III'\n",
      " 'Well differentiated; Grade I' 'Undifferentiated; anaplastic; Grade IV']\n",
      "['Grade II' 'Grade III' 'Grade I' 'anaplastic']\n"
     ]
    }
   ],
   "source": [
    "#Remove unnecessary text from the data\n",
    "#In Grade column we just need the grades not the description, therefore it is been trimmed\n",
    "print(df['Grade'].unique())\n",
    "df['Grade'] = df['Grade'].apply(lambda x : x.split(';')[1].strip())\n",
    "print(df['Grade'].unique())"
   ]
  },
  {
   "cell_type": "code",
   "execution_count": 37,
   "metadata": {
    "colab": {
     "base_uri": "https://localhost:8080/"
    },
    "id": "xGI4pwGMIKBw",
    "outputId": "dede89a7-95e6-4558-8bae-467e0f49202a"
   },
   "outputs": [
    {
     "name": "stdout",
     "output_type": "stream",
     "text": [
      "['Other (American Indian/AK Native, Asian/Pacific Islander)' 'White'\n",
      " 'Black']\n",
      "['Other' 'White' 'Black']\n"
     ]
    }
   ],
   "source": [
    "print(df['Race'].unique())\n",
    "df['Race'] = df['Race'].apply(lambda x : x.split('(')[0].strip())\n",
    "print(df['Race'].unique())"
   ]
  },
  {
   "cell_type": "code",
   "execution_count": 38,
   "metadata": {
    "colab": {
     "base_uri": "https://localhost:8080/"
    },
    "id": "Z75tzleAI70f",
    "outputId": "5b80ca8d-a3fa-4b8c-879b-a1c0e0216c9f"
   },
   "outputs": [
    {
     "name": "stdout",
     "output_type": "stream",
     "text": [
      "['Married (including common law)' 'Divorced' 'Single (never married)'\n",
      " 'Widowed' 'Separated']\n",
      "['Married' 'Divorced' 'Single' 'Widowed' 'Separated']\n"
     ]
    }
   ],
   "source": [
    "print(df['Marital Status'].unique())\n",
    "df['Marital Status'] = df['Marital Status'].apply(lambda x : x.split('(')[0].strip())\n",
    "print(df['Marital Status'].unique())"
   ]
  },
  {
   "cell_type": "markdown",
   "metadata": {
    "id": "488f02f6"
   },
   "source": [
    "### 1-3: Data Cleaning"
   ]
  },
  {
   "cell_type": "code",
   "execution_count": 39,
   "metadata": {
    "colab": {
     "base_uri": "https://localhost:8080/",
     "height": 206
    },
    "id": "T5-SboWpgjA3",
    "outputId": "bd8d8c78-08de-478d-d9b0-5446252fd9ac"
   },
   "outputs": [
    {
     "data": {
      "text/html": [
       "<div>\n",
       "<style scoped>\n",
       "    .dataframe tbody tr th:only-of-type {\n",
       "        vertical-align: middle;\n",
       "    }\n",
       "\n",
       "    .dataframe tbody tr th {\n",
       "        vertical-align: top;\n",
       "    }\n",
       "\n",
       "    .dataframe thead th {\n",
       "        text-align: right;\n",
       "    }\n",
       "</style>\n",
       "<table border=\"1\" class=\"dataframe\">\n",
       "  <thead>\n",
       "    <tr style=\"text-align: right;\">\n",
       "      <th></th>\n",
       "      <th>Var</th>\n",
       "      <th>Vif</th>\n",
       "    </tr>\n",
       "  </thead>\n",
       "  <tbody>\n",
       "    <tr>\n",
       "      <th>0</th>\n",
       "      <td>Age</td>\n",
       "      <td>11.17</td>\n",
       "    </tr>\n",
       "    <tr>\n",
       "      <th>4</th>\n",
       "      <td>Survival Months</td>\n",
       "      <td>8.73</td>\n",
       "    </tr>\n",
       "    <tr>\n",
       "      <th>2</th>\n",
       "      <td>Regional Node Examined</td>\n",
       "      <td>4.74</td>\n",
       "    </tr>\n",
       "    <tr>\n",
       "      <th>1</th>\n",
       "      <td>Tumor Size</td>\n",
       "      <td>3.08</td>\n",
       "    </tr>\n",
       "    <tr>\n",
       "      <th>3</th>\n",
       "      <td>Reginol Node Positive</td>\n",
       "      <td>2.14</td>\n",
       "    </tr>\n",
       "  </tbody>\n",
       "</table>\n",
       "</div>"
      ],
      "text/plain": [
       "                      Var    Vif\n",
       "0                     Age  11.17\n",
       "4         Survival Months   8.73\n",
       "2  Regional Node Examined   4.74\n",
       "1              Tumor Size   3.08\n",
       "3   Reginol Node Positive   2.14"
      ]
     },
     "execution_count": 39,
     "metadata": {},
     "output_type": "execute_result"
    }
   ],
   "source": [
    "#caluculate the VIF to check the multicollinearity \n",
    "calculate_vif(df.select_dtypes(include='number'))"
   ]
  },
  {
   "cell_type": "code",
   "execution_count": 16,
   "metadata": {
    "colab": {
     "base_uri": "https://localhost:8080/",
     "height": 143
    },
    "id": "mJb-JSaEg0eo",
    "outputId": "7fae654d-b6e0-4290-e4b5-83b0e4f1a4c0"
   },
   "outputs": [
    {
     "data": {
      "text/html": [
       "<div>\n",
       "<style scoped>\n",
       "    .dataframe tbody tr th:only-of-type {\n",
       "        vertical-align: middle;\n",
       "    }\n",
       "\n",
       "    .dataframe tbody tr th {\n",
       "        vertical-align: top;\n",
       "    }\n",
       "\n",
       "    .dataframe thead th {\n",
       "        text-align: right;\n",
       "    }\n",
       "</style>\n",
       "<table border=\"1\" class=\"dataframe\">\n",
       "  <thead>\n",
       "    <tr style=\"text-align: right;\">\n",
       "      <th></th>\n",
       "      <th>Var</th>\n",
       "      <th>Vif</th>\n",
       "    </tr>\n",
       "  </thead>\n",
       "  <tbody>\n",
       "    <tr>\n",
       "      <th>1</th>\n",
       "      <td>Regional Node Examined</td>\n",
       "      <td>2.86</td>\n",
       "    </tr>\n",
       "    <tr>\n",
       "      <th>0</th>\n",
       "      <td>Tumor Size</td>\n",
       "      <td>2.35</td>\n",
       "    </tr>\n",
       "    <tr>\n",
       "      <th>2</th>\n",
       "      <td>Reginol Node Positive</td>\n",
       "      <td>2.09</td>\n",
       "    </tr>\n",
       "  </tbody>\n",
       "</table>\n",
       "</div>"
      ],
      "text/plain": [
       "                      Var   Vif\n",
       "1  Regional Node Examined  2.86\n",
       "0              Tumor Size  2.35\n",
       "2   Reginol Node Positive  2.09"
      ]
     },
     "execution_count": 16,
     "metadata": {},
     "output_type": "execute_result"
    }
   ],
   "source": [
    "# dropping the feature with the high VIF\n",
    "df_dropped = df.drop(df[['Survival Months']],axis=1)\n",
    "df_dropped = df_dropped.drop(df[['Age']],axis=1)\n",
    "\n",
    "calculate_vif(df_dropped.select_dtypes(include='number'))"
   ]
  },
  {
   "cell_type": "code",
   "execution_count": 41,
   "metadata": {
    "id": "047e17a6"
   },
   "outputs": [],
   "source": [
    "#devide the dataset to featurs and target\n",
    "features  = df_dropped.drop('Status',axis = 1)\n",
    "target = df_dropped['Status']"
   ]
  },
  {
   "cell_type": "code",
   "execution_count": 42,
   "metadata": {
    "id": "fd358acf"
   },
   "outputs": [],
   "source": [
    "## Call get_dummies() to one-hot encode all features in the training set\n",
    "features = pd.get_dummies(features,drop_first = True)"
   ]
  },
  {
   "cell_type": "code",
   "execution_count": 43,
   "metadata": {
    "id": "58d2d623"
   },
   "outputs": [],
   "source": [
    "# Encode TARGET Columns using LabelEncoder\n",
    "le = preprocessing.LabelEncoder()\n",
    "target = pd.DataFrame(le.fit_transform(target).reshape(-1,1),columns = ['Status'])"
   ]
  },
  {
   "cell_type": "code",
   "execution_count": 44,
   "metadata": {
    "id": "58aa79a0"
   },
   "outputs": [],
   "source": [
    "df_labeled = pd.concat([features, target], axis=1)"
   ]
  },
  {
   "cell_type": "code",
   "execution_count": 45,
   "metadata": {
    "colab": {
     "base_uri": "https://localhost:8080/"
    },
    "id": "fc446ac3",
    "outputId": "60b8fef3-7413-40e7-8f8a-31405101200d"
   },
   "outputs": [
    {
     "name": "stdout",
     "output_type": "stream",
     "text": [
      "<class 'pandas.core.frame.DataFrame'>\n",
      "RangeIndex: 4024 entries, 0 to 4023\n",
      "Data columns (total 27 columns):\n",
      "Age                             4024 non-null int64\n",
      "Tumor Size                      4024 non-null int64\n",
      "Regional Node Examined          4024 non-null int64\n",
      "Reginol Node Positive           4024 non-null int64\n",
      "Survival Months                 4024 non-null int64\n",
      "Race_Other                      4024 non-null uint8\n",
      "Race_White                      4024 non-null uint8\n",
      "Marital Status_Married          4024 non-null uint8\n",
      "Marital Status_Separated        4024 non-null uint8\n",
      "Marital Status_Single           4024 non-null uint8\n",
      "Marital Status_Widowed          4024 non-null uint8\n",
      "T Stage_T2                      4024 non-null uint8\n",
      "T Stage_T3                      4024 non-null uint8\n",
      "T Stage_T4                      4024 non-null uint8\n",
      "N Stage_N2                      4024 non-null uint8\n",
      "N Stage_N3                      4024 non-null uint8\n",
      "6th Stage_IIB                   4024 non-null uint8\n",
      "6th Stage_IIIA                  4024 non-null uint8\n",
      "6th Stage_IIIB                  4024 non-null uint8\n",
      "6th Stage_IIIC                  4024 non-null uint8\n",
      "Grade_Grade II                  4024 non-null uint8\n",
      "Grade_Grade III                 4024 non-null uint8\n",
      "Grade_anaplastic                4024 non-null uint8\n",
      "A Stage_Regional                4024 non-null uint8\n",
      "Estrogen Status_Positive        4024 non-null uint8\n",
      "Progesterone Status_Positive    4024 non-null uint8\n",
      "Status                          4024 non-null int64\n",
      "dtypes: int64(6), uint8(21)\n",
      "memory usage: 271.2 KB\n"
     ]
    }
   ],
   "source": [
    "#confirm all the categorical data are converted to numberical data types\n",
    "df_labeled.info()"
   ]
  },
  {
   "cell_type": "code",
   "execution_count": 46,
   "metadata": {
    "colab": {
     "base_uri": "https://localhost:8080/",
     "height": 833
    },
    "id": "e470b94c",
    "outputId": "81afca95-e55e-4a9c-a9be-ad740632075b"
   },
   "outputs": [
    {
     "data": {
      "text/html": [
       "<div>\n",
       "<style scoped>\n",
       "    .dataframe tbody tr th:only-of-type {\n",
       "        vertical-align: middle;\n",
       "    }\n",
       "\n",
       "    .dataframe tbody tr th {\n",
       "        vertical-align: top;\n",
       "    }\n",
       "\n",
       "    .dataframe thead th {\n",
       "        text-align: right;\n",
       "    }\n",
       "</style>\n",
       "<table border=\"1\" class=\"dataframe\">\n",
       "  <thead>\n",
       "    <tr style=\"text-align: right;\">\n",
       "      <th></th>\n",
       "      <th>count</th>\n",
       "      <th>mean</th>\n",
       "      <th>std</th>\n",
       "      <th>min</th>\n",
       "      <th>25%</th>\n",
       "      <th>50%</th>\n",
       "      <th>75%</th>\n",
       "      <th>max</th>\n",
       "    </tr>\n",
       "  </thead>\n",
       "  <tbody>\n",
       "    <tr>\n",
       "      <th>Age</th>\n",
       "      <td>4024.0</td>\n",
       "      <td>53.972167</td>\n",
       "      <td>8.963134</td>\n",
       "      <td>30.0</td>\n",
       "      <td>47.0</td>\n",
       "      <td>54.0</td>\n",
       "      <td>61.0</td>\n",
       "      <td>69.0</td>\n",
       "    </tr>\n",
       "    <tr>\n",
       "      <th>Tumor Size</th>\n",
       "      <td>4024.0</td>\n",
       "      <td>30.473658</td>\n",
       "      <td>21.119696</td>\n",
       "      <td>1.0</td>\n",
       "      <td>16.0</td>\n",
       "      <td>25.0</td>\n",
       "      <td>38.0</td>\n",
       "      <td>140.0</td>\n",
       "    </tr>\n",
       "    <tr>\n",
       "      <th>Regional Node Examined</th>\n",
       "      <td>4024.0</td>\n",
       "      <td>14.357107</td>\n",
       "      <td>8.099675</td>\n",
       "      <td>1.0</td>\n",
       "      <td>9.0</td>\n",
       "      <td>14.0</td>\n",
       "      <td>19.0</td>\n",
       "      <td>61.0</td>\n",
       "    </tr>\n",
       "    <tr>\n",
       "      <th>Reginol Node Positive</th>\n",
       "      <td>4024.0</td>\n",
       "      <td>4.158052</td>\n",
       "      <td>5.109331</td>\n",
       "      <td>1.0</td>\n",
       "      <td>1.0</td>\n",
       "      <td>2.0</td>\n",
       "      <td>5.0</td>\n",
       "      <td>46.0</td>\n",
       "    </tr>\n",
       "    <tr>\n",
       "      <th>Survival Months</th>\n",
       "      <td>4024.0</td>\n",
       "      <td>71.297962</td>\n",
       "      <td>22.921430</td>\n",
       "      <td>1.0</td>\n",
       "      <td>56.0</td>\n",
       "      <td>73.0</td>\n",
       "      <td>90.0</td>\n",
       "      <td>107.0</td>\n",
       "    </tr>\n",
       "    <tr>\n",
       "      <th>Race_Other</th>\n",
       "      <td>4024.0</td>\n",
       "      <td>0.079523</td>\n",
       "      <td>0.270587</td>\n",
       "      <td>0.0</td>\n",
       "      <td>0.0</td>\n",
       "      <td>0.0</td>\n",
       "      <td>0.0</td>\n",
       "      <td>1.0</td>\n",
       "    </tr>\n",
       "    <tr>\n",
       "      <th>Race_White</th>\n",
       "      <td>4024.0</td>\n",
       "      <td>0.848161</td>\n",
       "      <td>0.358909</td>\n",
       "      <td>0.0</td>\n",
       "      <td>1.0</td>\n",
       "      <td>1.0</td>\n",
       "      <td>1.0</td>\n",
       "      <td>1.0</td>\n",
       "    </tr>\n",
       "    <tr>\n",
       "      <th>Marital Status_Married</th>\n",
       "      <td>4024.0</td>\n",
       "      <td>0.656809</td>\n",
       "      <td>0.474834</td>\n",
       "      <td>0.0</td>\n",
       "      <td>0.0</td>\n",
       "      <td>1.0</td>\n",
       "      <td>1.0</td>\n",
       "      <td>1.0</td>\n",
       "    </tr>\n",
       "    <tr>\n",
       "      <th>Marital Status_Separated</th>\n",
       "      <td>4024.0</td>\n",
       "      <td>0.011183</td>\n",
       "      <td>0.105169</td>\n",
       "      <td>0.0</td>\n",
       "      <td>0.0</td>\n",
       "      <td>0.0</td>\n",
       "      <td>0.0</td>\n",
       "      <td>1.0</td>\n",
       "    </tr>\n",
       "    <tr>\n",
       "      <th>Marital Status_Single</th>\n",
       "      <td>4024.0</td>\n",
       "      <td>0.152833</td>\n",
       "      <td>0.359871</td>\n",
       "      <td>0.0</td>\n",
       "      <td>0.0</td>\n",
       "      <td>0.0</td>\n",
       "      <td>0.0</td>\n",
       "      <td>1.0</td>\n",
       "    </tr>\n",
       "    <tr>\n",
       "      <th>Marital Status_Widowed</th>\n",
       "      <td>4024.0</td>\n",
       "      <td>0.058400</td>\n",
       "      <td>0.234527</td>\n",
       "      <td>0.0</td>\n",
       "      <td>0.0</td>\n",
       "      <td>0.0</td>\n",
       "      <td>0.0</td>\n",
       "      <td>1.0</td>\n",
       "    </tr>\n",
       "    <tr>\n",
       "      <th>T Stage_T2</th>\n",
       "      <td>4024.0</td>\n",
       "      <td>0.443837</td>\n",
       "      <td>0.496897</td>\n",
       "      <td>0.0</td>\n",
       "      <td>0.0</td>\n",
       "      <td>0.0</td>\n",
       "      <td>1.0</td>\n",
       "      <td>1.0</td>\n",
       "    </tr>\n",
       "    <tr>\n",
       "      <th>T Stage_T3</th>\n",
       "      <td>4024.0</td>\n",
       "      <td>0.132455</td>\n",
       "      <td>0.339027</td>\n",
       "      <td>0.0</td>\n",
       "      <td>0.0</td>\n",
       "      <td>0.0</td>\n",
       "      <td>0.0</td>\n",
       "      <td>1.0</td>\n",
       "    </tr>\n",
       "    <tr>\n",
       "      <th>T Stage_T4</th>\n",
       "      <td>4024.0</td>\n",
       "      <td>0.025348</td>\n",
       "      <td>0.157199</td>\n",
       "      <td>0.0</td>\n",
       "      <td>0.0</td>\n",
       "      <td>0.0</td>\n",
       "      <td>0.0</td>\n",
       "      <td>1.0</td>\n",
       "    </tr>\n",
       "    <tr>\n",
       "      <th>N Stage_N2</th>\n",
       "      <td>4024.0</td>\n",
       "      <td>0.203777</td>\n",
       "      <td>0.402855</td>\n",
       "      <td>0.0</td>\n",
       "      <td>0.0</td>\n",
       "      <td>0.0</td>\n",
       "      <td>0.0</td>\n",
       "      <td>1.0</td>\n",
       "    </tr>\n",
       "    <tr>\n",
       "      <th>N Stage_N3</th>\n",
       "      <td>4024.0</td>\n",
       "      <td>0.117296</td>\n",
       "      <td>0.321813</td>\n",
       "      <td>0.0</td>\n",
       "      <td>0.0</td>\n",
       "      <td>0.0</td>\n",
       "      <td>0.0</td>\n",
       "      <td>1.0</td>\n",
       "    </tr>\n",
       "    <tr>\n",
       "      <th>6th Stage_IIB</th>\n",
       "      <td>4024.0</td>\n",
       "      <td>0.280815</td>\n",
       "      <td>0.449453</td>\n",
       "      <td>0.0</td>\n",
       "      <td>0.0</td>\n",
       "      <td>0.0</td>\n",
       "      <td>1.0</td>\n",
       "      <td>1.0</td>\n",
       "    </tr>\n",
       "    <tr>\n",
       "      <th>6th Stage_IIIA</th>\n",
       "      <td>4024.0</td>\n",
       "      <td>0.260934</td>\n",
       "      <td>0.439199</td>\n",
       "      <td>0.0</td>\n",
       "      <td>0.0</td>\n",
       "      <td>0.0</td>\n",
       "      <td>1.0</td>\n",
       "      <td>1.0</td>\n",
       "    </tr>\n",
       "    <tr>\n",
       "      <th>6th Stage_IIIB</th>\n",
       "      <td>4024.0</td>\n",
       "      <td>0.016650</td>\n",
       "      <td>0.127972</td>\n",
       "      <td>0.0</td>\n",
       "      <td>0.0</td>\n",
       "      <td>0.0</td>\n",
       "      <td>0.0</td>\n",
       "      <td>1.0</td>\n",
       "    </tr>\n",
       "    <tr>\n",
       "      <th>6th Stage_IIIC</th>\n",
       "      <td>4024.0</td>\n",
       "      <td>0.117296</td>\n",
       "      <td>0.321813</td>\n",
       "      <td>0.0</td>\n",
       "      <td>0.0</td>\n",
       "      <td>0.0</td>\n",
       "      <td>0.0</td>\n",
       "      <td>1.0</td>\n",
       "    </tr>\n",
       "    <tr>\n",
       "      <th>Grade_Grade II</th>\n",
       "      <td>4024.0</td>\n",
       "      <td>0.584245</td>\n",
       "      <td>0.492913</td>\n",
       "      <td>0.0</td>\n",
       "      <td>0.0</td>\n",
       "      <td>1.0</td>\n",
       "      <td>1.0</td>\n",
       "      <td>1.0</td>\n",
       "    </tr>\n",
       "    <tr>\n",
       "      <th>Grade_Grade III</th>\n",
       "      <td>4024.0</td>\n",
       "      <td>0.276093</td>\n",
       "      <td>0.447119</td>\n",
       "      <td>0.0</td>\n",
       "      <td>0.0</td>\n",
       "      <td>0.0</td>\n",
       "      <td>1.0</td>\n",
       "      <td>1.0</td>\n",
       "    </tr>\n",
       "    <tr>\n",
       "      <th>Grade_anaplastic</th>\n",
       "      <td>4024.0</td>\n",
       "      <td>0.004722</td>\n",
       "      <td>0.068561</td>\n",
       "      <td>0.0</td>\n",
       "      <td>0.0</td>\n",
       "      <td>0.0</td>\n",
       "      <td>0.0</td>\n",
       "      <td>1.0</td>\n",
       "    </tr>\n",
       "    <tr>\n",
       "      <th>A Stage_Regional</th>\n",
       "      <td>4024.0</td>\n",
       "      <td>0.977137</td>\n",
       "      <td>0.149485</td>\n",
       "      <td>0.0</td>\n",
       "      <td>1.0</td>\n",
       "      <td>1.0</td>\n",
       "      <td>1.0</td>\n",
       "      <td>1.0</td>\n",
       "    </tr>\n",
       "    <tr>\n",
       "      <th>Estrogen Status_Positive</th>\n",
       "      <td>4024.0</td>\n",
       "      <td>0.933151</td>\n",
       "      <td>0.249791</td>\n",
       "      <td>0.0</td>\n",
       "      <td>1.0</td>\n",
       "      <td>1.0</td>\n",
       "      <td>1.0</td>\n",
       "      <td>1.0</td>\n",
       "    </tr>\n",
       "    <tr>\n",
       "      <th>Progesterone Status_Positive</th>\n",
       "      <td>4024.0</td>\n",
       "      <td>0.826541</td>\n",
       "      <td>0.378691</td>\n",
       "      <td>0.0</td>\n",
       "      <td>1.0</td>\n",
       "      <td>1.0</td>\n",
       "      <td>1.0</td>\n",
       "      <td>1.0</td>\n",
       "    </tr>\n",
       "    <tr>\n",
       "      <th>Status</th>\n",
       "      <td>4024.0</td>\n",
       "      <td>0.153082</td>\n",
       "      <td>0.360111</td>\n",
       "      <td>0.0</td>\n",
       "      <td>0.0</td>\n",
       "      <td>0.0</td>\n",
       "      <td>0.0</td>\n",
       "      <td>1.0</td>\n",
       "    </tr>\n",
       "  </tbody>\n",
       "</table>\n",
       "</div>"
      ],
      "text/plain": [
       "                               count       mean        std   min   25%   50%  \\\n",
       "Age                           4024.0  53.972167   8.963134  30.0  47.0  54.0   \n",
       "Tumor Size                    4024.0  30.473658  21.119696   1.0  16.0  25.0   \n",
       "Regional Node Examined        4024.0  14.357107   8.099675   1.0   9.0  14.0   \n",
       "Reginol Node Positive         4024.0   4.158052   5.109331   1.0   1.0   2.0   \n",
       "Survival Months               4024.0  71.297962  22.921430   1.0  56.0  73.0   \n",
       "Race_Other                    4024.0   0.079523   0.270587   0.0   0.0   0.0   \n",
       "Race_White                    4024.0   0.848161   0.358909   0.0   1.0   1.0   \n",
       "Marital Status_Married        4024.0   0.656809   0.474834   0.0   0.0   1.0   \n",
       "Marital Status_Separated      4024.0   0.011183   0.105169   0.0   0.0   0.0   \n",
       "Marital Status_Single         4024.0   0.152833   0.359871   0.0   0.0   0.0   \n",
       "Marital Status_Widowed        4024.0   0.058400   0.234527   0.0   0.0   0.0   \n",
       "T Stage_T2                    4024.0   0.443837   0.496897   0.0   0.0   0.0   \n",
       "T Stage_T3                    4024.0   0.132455   0.339027   0.0   0.0   0.0   \n",
       "T Stage_T4                    4024.0   0.025348   0.157199   0.0   0.0   0.0   \n",
       "N Stage_N2                    4024.0   0.203777   0.402855   0.0   0.0   0.0   \n",
       "N Stage_N3                    4024.0   0.117296   0.321813   0.0   0.0   0.0   \n",
       "6th Stage_IIB                 4024.0   0.280815   0.449453   0.0   0.0   0.0   \n",
       "6th Stage_IIIA                4024.0   0.260934   0.439199   0.0   0.0   0.0   \n",
       "6th Stage_IIIB                4024.0   0.016650   0.127972   0.0   0.0   0.0   \n",
       "6th Stage_IIIC                4024.0   0.117296   0.321813   0.0   0.0   0.0   \n",
       "Grade_Grade II                4024.0   0.584245   0.492913   0.0   0.0   1.0   \n",
       "Grade_Grade III               4024.0   0.276093   0.447119   0.0   0.0   0.0   \n",
       "Grade_anaplastic              4024.0   0.004722   0.068561   0.0   0.0   0.0   \n",
       "A Stage_Regional              4024.0   0.977137   0.149485   0.0   1.0   1.0   \n",
       "Estrogen Status_Positive      4024.0   0.933151   0.249791   0.0   1.0   1.0   \n",
       "Progesterone Status_Positive  4024.0   0.826541   0.378691   0.0   1.0   1.0   \n",
       "Status                        4024.0   0.153082   0.360111   0.0   0.0   0.0   \n",
       "\n",
       "                               75%    max  \n",
       "Age                           61.0   69.0  \n",
       "Tumor Size                    38.0  140.0  \n",
       "Regional Node Examined        19.0   61.0  \n",
       "Reginol Node Positive          5.0   46.0  \n",
       "Survival Months               90.0  107.0  \n",
       "Race_Other                     0.0    1.0  \n",
       "Race_White                     1.0    1.0  \n",
       "Marital Status_Married         1.0    1.0  \n",
       "Marital Status_Separated       0.0    1.0  \n",
       "Marital Status_Single          0.0    1.0  \n",
       "Marital Status_Widowed         0.0    1.0  \n",
       "T Stage_T2                     1.0    1.0  \n",
       "T Stage_T3                     0.0    1.0  \n",
       "T Stage_T4                     0.0    1.0  \n",
       "N Stage_N2                     0.0    1.0  \n",
       "N Stage_N3                     0.0    1.0  \n",
       "6th Stage_IIB                  1.0    1.0  \n",
       "6th Stage_IIIA                 1.0    1.0  \n",
       "6th Stage_IIIB                 0.0    1.0  \n",
       "6th Stage_IIIC                 0.0    1.0  \n",
       "Grade_Grade II                 1.0    1.0  \n",
       "Grade_Grade III                1.0    1.0  \n",
       "Grade_anaplastic               0.0    1.0  \n",
       "A Stage_Regional               1.0    1.0  \n",
       "Estrogen Status_Positive       1.0    1.0  \n",
       "Progesterone Status_Positive   1.0    1.0  \n",
       "Status                         0.0    1.0  "
      ]
     },
     "execution_count": 46,
     "metadata": {},
     "output_type": "execute_result"
    }
   ],
   "source": [
    "df_labeled.describe().T"
   ]
  },
  {
   "cell_type": "code",
   "execution_count": 47,
   "metadata": {
    "colab": {
     "base_uri": "https://localhost:8080/",
     "height": 384
    },
    "id": "vqvE52C0VKra",
    "outputId": "bbaff9b8-c353-444c-a08b-a6b18fed6831"
   },
   "outputs": [
    {
     "data": {
      "image/png": "[encoded data removed]",
      "text/plain": [
       "<Figure size 432x288 with 2 Axes>"
      ]
     },
     "metadata": {
      "needs_background": "light"
     },
     "output_type": "display_data"
    }
   ],
   "source": [
    "# draw the heatmap to display the correlation between the continious features\n",
    "sns.heatmap(df.select_dtypes(include = 'number').corr(), annot=True)\n",
    "plt.show()"
   ]
  },
  {
   "cell_type": "markdown",
   "metadata": {
    "id": "i_cgoXvQR3A6"
   },
   "source": [
    "As seen in the above map there are some correlation between the features such as T stage,N satge and 6th stage. We will keep this in mind but will not drop it and do more investigation in EDA."
   ]
  },
  {
   "cell_type": "code",
   "execution_count": 48,
   "metadata": {
    "colab": {
     "base_uri": "https://localhost:8080/",
     "height": 607
    },
    "id": "0c2fa64d",
    "outputId": "30d7b491-5a7b-444c-c7c8-599642198beb"
   },
   "outputs": [
    {
     "data": {
      "image/png": "[encoded data removed]",
      "text/plain": [
       "<Figure size 1080x720 with 30 Axes>"
      ]
     },
     "metadata": {
      "needs_background": "light"
     },
     "output_type": "display_data"
    }
   ],
   "source": [
    "#Plot distributions of features\n",
    "df_labeled.hist(figsize=(15,10))\n",
    "plt.subplots_adjust(hspace=0.5);\n"
   ]
  },
  {
   "cell_type": "code",
   "execution_count": 49,
   "metadata": {
    "id": "mgUI5UFC6Gl6"
   },
   "outputs": [],
   "source": [
    "#save the data\n",
    "# fpath = '/content/drive/My Drive/Springboard/capston 2 project/data/bc_data_cleaned_labeled.csv'\n",
    "fpath = '../data/bc_data_cleaned_labeled.csv'\n",
    "df_labeled.to_csv(fpath, index=False)"
   ]
  },
  {
   "cell_type": "markdown",
   "metadata": {
    "id": "ee2d88fe"
   },
   "source": [
    "## As the data is imbalanced, synthetic data has been created and data is update as below"
   ]
  },
  {
   "cell_type": "code",
   "execution_count": 3,
   "metadata": {
    "id": "24da1756"
   },
   "outputs": [],
   "source": [
    "# fpath = '/content/drive/My Drive/Springboard/capston 2 project/data/bc_data_synthetic_labeled.csv'\n",
    "fpath = '../data/bc_data_synthetic.csv'\n",
    "df_synth= pd.read_csv(fpath)"
   ]
  },
  {
   "cell_type": "code",
   "execution_count": 4,
   "metadata": {
    "colab": {
     "base_uri": "https://localhost:8080/"
    },
    "id": "204ddf29",
    "outputId": "24a70a9b-317c-41ab-ddb3-3c2cb3ea8422"
   },
   "outputs": [
    {
     "name": "stdout",
     "output_type": "stream",
     "text": [
      "<class 'pandas.core.frame.DataFrame'>\n",
      "RangeIndex: 6816 entries, 0 to 6815\n",
      "Data columns (total 27 columns):\n",
      "Age                             6816 non-null int64\n",
      "Tumor Size                      6816 non-null int64\n",
      "Regional Node Examined          6816 non-null int64\n",
      "Reginol Node Positive           6816 non-null int64\n",
      "Survival Months                 6816 non-null int64\n",
      "Race_Other                      6816 non-null int64\n",
      "Race_White                      6816 non-null int64\n",
      "Marital Status_Married          6816 non-null int64\n",
      "Marital Status_Separated        6816 non-null int64\n",
      "Marital Status_Single           6816 non-null int64\n",
      "Marital Status_Widowed          6816 non-null int64\n",
      "T Stage_T2                      6816 non-null int64\n",
      "T Stage_T3                      6816 non-null int64\n",
      "T Stage_T4                      6816 non-null int64\n",
      "N Stage_N2                      6816 non-null int64\n",
      "N Stage_N3                      6816 non-null int64\n",
      "6th Stage_IIB                   6816 non-null int64\n",
      "6th Stage_IIIA                  6816 non-null int64\n",
      "6th Stage_IIIB                  6816 non-null int64\n",
      "6th Stage_IIIC                  6816 non-null int64\n",
      "Grade_Grade II                  6816 non-null int64\n",
      "Grade_Grade III                 6816 non-null int64\n",
      "Grade_anaplastic                6816 non-null int64\n",
      "A Stage_Regional                6816 non-null int64\n",
      "Estrogen Status_Positive        6816 non-null int64\n",
      "Progesterone Status_Positive    6816 non-null int64\n",
      "Status                          6816 non-null int64\n",
      "dtypes: int64(27)\n",
      "memory usage: 1.4 MB\n"
     ]
    }
   ],
   "source": [
    "df_synth.info()"
   ]
  },
  {
   "cell_type": "code",
   "execution_count": null,
   "metadata": {
    "colab": {
     "base_uri": "https://localhost:8080/",
     "height": 486
    },
    "id": "45b2fc3c",
    "outputId": "af22de5a-3676-4e8a-8888-cc7d9674d93a",
    "scrolled": false
   },
   "outputs": [],
   "source": [
    "#exploring the summary of all the features after combined with synthetic data\n",
    "library.utils.get_summary(df_synth,['Status'])"
   ]
  },
  {
   "cell_type": "markdown",
   "metadata": {
    "id": "kxJ07paRS3kR"
   },
   "source": [
    "As seen in the above graphs the data has been balanced correctly."
   ]
  }
 ],
 "metadata": {
  "colab": {
   "collapsed_sections": [],
   "include_colab_link": true,
   "name": "BC-DataWrangling.ipynb",
   "provenance": []
  },
  "kernelspec": {
   "display_name": "Python 3",
   "language": "python",
   "name": "python3"
  },
  "language_info": {
   "codemirror_mode": {
    "name": "ipython",
    "version": 3
   },
   "file_extension": ".py",
   "mimetype": "text/x-python",
   "name": "python",
   "nbconvert_exporter": "python",
   "pygments_lexer": "ipython3",
   "version": "3.9.7"
  }
 },
 "nbformat": 4,
 "nbformat_minor": 5
}
