{
  "cells": [
    {
      "cell_type": "markdown",
      "metadata": {
        "colab_type": "text",
        "id": "view-in-github"
      },
      "source": [
        "<a href=\"https://colab.research.google.com/github/nakisa84/Springboard/blob/main/capston%202%20project/notebooks/generate_synthetic_data.ipynb\" target=\"_parent\"><img src=\"https://colab.research.google.com/assets/colab-badge.svg\" alt=\"Open In Colab\"/></a>"
      ]
    },
    {
      "cell_type": "markdown",
      "id": "8307a631",
      "metadata": {
        "id": "8307a631"
      },
      "source": [
        "### In this notebook, data has been upsampled using SMOTE technique:"
      ]
    },
    {
      "cell_type": "code",
      "execution_count": 1,
      "id": "e3ffe217",
      "metadata": {
        "id": "e3ffe217"
      },
      "outputs": [],
      "source": [
        "import matplotlib.pyplot as plt\n",
        "import pandas as pd\n",
        "import numpy as np\n",
        "import seaborn as sns\n",
        "from sklearn.metrics import confusion_matrix\n",
        "from sklearn.model_selection import train_test_split\n",
        "from sklearn.ensemble import RandomForestClassifier\n",
        "from imblearn.over_sampling import SMOTE"
      ]
    },
    {
      "cell_type": "code",
      "execution_count": 2,
      "id": "ZRFVur5XP6Mh",
      "metadata": {
        "colab": {
          "base_uri": "https://localhost:8080/"
        },
        "id": "ZRFVur5XP6Mh",
        "outputId": "287e2797-aa32-4479-f29e-4cfc715492a0"
      },
      "outputs": [
        {
          "name": "stdout",
          "output_type": "stream",
          "text": [
            "Mounted at /content/drive\n"
          ]
        }
      ],
      "source": [
        "# from google.colab import drive\n",
        "from google.colab import drive\n",
        "drive.mount('/content/drive')"
      ]
    },
    {
      "cell_type": "code",
      "execution_count": 3,
      "id": "e187520d",
      "metadata": {
        "colab": {
          "base_uri": "https://localhost:8080/",
          "height": 261
        },
        "id": "e187520d",
        "outputId": "85735066-5832-470e-eaa6-de969824160f"
      },
      "outputs": [
        {
          "data": {
            "text/html": [
              "<div>\n",
              "<style scoped>\n",
              "    .dataframe tbody tr th:only-of-type {\n",
              "        vertical-align: middle;\n",
              "    }\n",
              "\n",
              "    .dataframe tbody tr th {\n",
              "        vertical-align: top;\n",
              "    }\n",
              "\n",
              "    .dataframe thead th {\n",
              "        text-align: right;\n",
              "    }\n",
              "</style>\n",
              "<table border=\"1\" class=\"dataframe\">\n",
              "  <thead>\n",
              "    <tr style=\"text-align: right;\">\n",
              "      <th></th>\n",
              "      <th>Age</th>\n",
              "      <th>Tumor Size</th>\n",
              "      <th>Regional Node Examined</th>\n",
              "      <th>Reginol Node Positive</th>\n",
              "      <th>Survival Months</th>\n",
              "      <th>Race_Other</th>\n",
              "      <th>Race_White</th>\n",
              "      <th>Marital Status_Married</th>\n",
              "      <th>Marital Status_Separated</th>\n",
              "      <th>Marital Status_Single</th>\n",
              "      <th>...</th>\n",
              "      <th>6th Stage_IIIA</th>\n",
              "      <th>6th Stage_IIIB</th>\n",
              "      <th>6th Stage_IIIC</th>\n",
              "      <th>Grade_Grade II</th>\n",
              "      <th>Grade_Grade III</th>\n",
              "      <th>Grade_anaplastic</th>\n",
              "      <th>A Stage_Regional</th>\n",
              "      <th>Estrogen Status_Positive</th>\n",
              "      <th>Progesterone Status_Positive</th>\n",
              "      <th>Status</th>\n",
              "    </tr>\n",
              "  </thead>\n",
              "  <tbody>\n",
              "    <tr>\n",
              "      <th>0</th>\n",
              "      <td>43</td>\n",
              "      <td>40</td>\n",
              "      <td>19</td>\n",
              "      <td>11</td>\n",
              "      <td>1</td>\n",
              "      <td>1</td>\n",
              "      <td>0</td>\n",
              "      <td>1</td>\n",
              "      <td>0</td>\n",
              "      <td>0</td>\n",
              "      <td>...</td>\n",
              "      <td>0</td>\n",
              "      <td>0</td>\n",
              "      <td>1</td>\n",
              "      <td>1</td>\n",
              "      <td>0</td>\n",
              "      <td>0</td>\n",
              "      <td>1</td>\n",
              "      <td>1</td>\n",
              "      <td>1</td>\n",
              "      <td>0</td>\n",
              "    </tr>\n",
              "    <tr>\n",
              "      <th>1</th>\n",
              "      <td>47</td>\n",
              "      <td>45</td>\n",
              "      <td>25</td>\n",
              "      <td>9</td>\n",
              "      <td>2</td>\n",
              "      <td>1</td>\n",
              "      <td>0</td>\n",
              "      <td>1</td>\n",
              "      <td>0</td>\n",
              "      <td>0</td>\n",
              "      <td>...</td>\n",
              "      <td>1</td>\n",
              "      <td>0</td>\n",
              "      <td>0</td>\n",
              "      <td>1</td>\n",
              "      <td>0</td>\n",
              "      <td>0</td>\n",
              "      <td>1</td>\n",
              "      <td>1</td>\n",
              "      <td>1</td>\n",
              "      <td>0</td>\n",
              "    </tr>\n",
              "    <tr>\n",
              "      <th>2</th>\n",
              "      <td>67</td>\n",
              "      <td>25</td>\n",
              "      <td>4</td>\n",
              "      <td>1</td>\n",
              "      <td>2</td>\n",
              "      <td>0</td>\n",
              "      <td>1</td>\n",
              "      <td>1</td>\n",
              "      <td>0</td>\n",
              "      <td>0</td>\n",
              "      <td>...</td>\n",
              "      <td>0</td>\n",
              "      <td>0</td>\n",
              "      <td>0</td>\n",
              "      <td>0</td>\n",
              "      <td>1</td>\n",
              "      <td>0</td>\n",
              "      <td>1</td>\n",
              "      <td>1</td>\n",
              "      <td>1</td>\n",
              "      <td>1</td>\n",
              "    </tr>\n",
              "    <tr>\n",
              "      <th>3</th>\n",
              "      <td>46</td>\n",
              "      <td>19</td>\n",
              "      <td>26</td>\n",
              "      <td>1</td>\n",
              "      <td>2</td>\n",
              "      <td>0</td>\n",
              "      <td>1</td>\n",
              "      <td>0</td>\n",
              "      <td>0</td>\n",
              "      <td>0</td>\n",
              "      <td>...</td>\n",
              "      <td>0</td>\n",
              "      <td>0</td>\n",
              "      <td>0</td>\n",
              "      <td>1</td>\n",
              "      <td>0</td>\n",
              "      <td>0</td>\n",
              "      <td>1</td>\n",
              "      <td>1</td>\n",
              "      <td>1</td>\n",
              "      <td>1</td>\n",
              "    </tr>\n",
              "    <tr>\n",
              "      <th>4</th>\n",
              "      <td>63</td>\n",
              "      <td>35</td>\n",
              "      <td>21</td>\n",
              "      <td>5</td>\n",
              "      <td>3</td>\n",
              "      <td>0</td>\n",
              "      <td>1</td>\n",
              "      <td>1</td>\n",
              "      <td>0</td>\n",
              "      <td>0</td>\n",
              "      <td>...</td>\n",
              "      <td>1</td>\n",
              "      <td>0</td>\n",
              "      <td>0</td>\n",
              "      <td>1</td>\n",
              "      <td>0</td>\n",
              "      <td>0</td>\n",
              "      <td>1</td>\n",
              "      <td>1</td>\n",
              "      <td>1</td>\n",
              "      <td>1</td>\n",
              "    </tr>\n",
              "  </tbody>\n",
              "</table>\n",
              "<p>5 rows × 27 columns</p>\n",
              "</div>"
            ],
            "text/plain": [
              "   Age  Tumor Size  Regional Node Examined  Reginol Node Positive  \\\n",
              "0   43          40                      19                     11   \n",
              "1   47          45                      25                      9   \n",
              "2   67          25                       4                      1   \n",
              "3   46          19                      26                      1   \n",
              "4   63          35                      21                      5   \n",
              "\n",
              "   Survival Months  Race_Other  Race_White  Marital Status_Married  \\\n",
              "0                1           1           0                       1   \n",
              "1                2           1           0                       1   \n",
              "2                2           0           1                       1   \n",
              "3                2           0           1                       0   \n",
              "4                3           0           1                       1   \n",
              "\n",
              "   Marital Status_Separated  Marital Status_Single   ...    6th Stage_IIIA  \\\n",
              "0                         0                      0   ...                 0   \n",
              "1                         0                      0   ...                 1   \n",
              "2                         0                      0   ...                 0   \n",
              "3                         0                      0   ...                 0   \n",
              "4                         0                      0   ...                 1   \n",
              "\n",
              "   6th Stage_IIIB  6th Stage_IIIC  Grade_Grade II  Grade_Grade III  \\\n",
              "0               0               1               1                0   \n",
              "1               0               0               1                0   \n",
              "2               0               0               0                1   \n",
              "3               0               0               1                0   \n",
              "4               0               0               1                0   \n",
              "\n",
              "   Grade_anaplastic  A Stage_Regional  Estrogen Status_Positive  \\\n",
              "0                 0                 1                         1   \n",
              "1                 0                 1                         1   \n",
              "2                 0                 1                         1   \n",
              "3                 0                 1                         1   \n",
              "4                 0                 1                         1   \n",
              "\n",
              "   Progesterone Status_Positive  Status  \n",
              "0                             1       0  \n",
              "1                             1       0  \n",
              "2                             1       1  \n",
              "3                             1       1  \n",
              "4                             1       1  \n",
              "\n",
              "[5 rows x 27 columns]"
            ]
          },
          "execution_count": 3,
          "metadata": {},
          "output_type": "execute_result"
        }
      ],
      "source": [
        "#load the clean data \n",
        "#fpath = '/content/drive/My Drive/Springboard/capston 2 project/data/bc_data_cleaned_labeled.csv'\n",
        "#df = pd.read_csv(fpath)\n",
        "\n",
        "df = pd.read_csv('../data/bc_data_cleaned_labeled.csv')\n",
        "df.head()"
      ]
    },
    {
      "cell_type": "code",
      "execution_count": 4,
      "id": "88f56415",
      "metadata": {
        "id": "88f56415"
      },
      "outputs": [],
      "source": [
        "#devide the dataset to features and target\n",
        "X = df.drop('Status',axis = 1)\n",
        "y = df[['Status']]\n"
      ]
    },
    {
      "cell_type": "code",
      "execution_count": 5,
      "id": "336fd735",
      "metadata": {
        "id": "336fd735"
      },
      "outputs": [],
      "source": [
        "#devide the data to test and train \n",
        "X_train, X_test, y_train, y_test = train_test_split(X, y, test_size=0.33, random_state=42)"
      ]
    },
    {
      "cell_type": "code",
      "execution_count": 6,
      "id": "fe97dcd8",
      "metadata": {
        "colab": {
          "base_uri": "https://localhost:8080/",
          "height": 369
        },
        "id": "fe97dcd8",
        "outputId": "4f0eb73b-c3d0-4f6f-8ed0-431503f3fdd6"
      },
      "outputs": [
        {
          "data": {
            "image/png": "[encoded data removed]",
            "text/plain": [
              "<Figure size 360x360 with 1 Axes>"
            ]
          },
          "metadata": {
            "needs_background": "light"
          },
          "output_type": "display_data"
        }
      ],
      "source": [
        " sns.catplot(x='Status',data=y_test,kind=\"count\");"
      ]
    },
    {
      "cell_type": "code",
      "execution_count": 7,
      "id": "db70a957",
      "metadata": {
        "colab": {
          "base_uri": "https://localhost:8080/"
        },
        "id": "db70a957",
        "outputId": "4563ce34-52bb-4436-cfaf-2e72b3667445"
      },
      "outputs": [
        {
          "name": "stderr",
          "output_type": "stream",
          "text": [
            "/Users/nakisaabbasi/anaconda3/lib/python3.7/site-packages/ipykernel_launcher.py:4: DataConversionWarning: A column-vector y was passed when a 1d array was expected. Please change the shape of y to (n_samples,), for example using ravel().\n",
            "  after removing the cwd from sys.path.\n"
          ]
        },
        {
          "data": {
            "text/plain": [
              "0.5831062670299728"
            ]
          },
          "execution_count": 7,
          "metadata": {},
          "output_type": "execute_result"
        }
      ],
      "source": [
        "#run random forest classification on the data \n",
        "from sklearn.metrics import f1_score\n",
        "clf = RandomForestClassifier(n_estimators=5)\n",
        "clf.fit(X_train, y_train)\n",
        "y_pred = clf.predict(X_test)\n",
        "f1_score(y_test, y_pred)"
      ]
    },
    {
      "cell_type": "code",
      "execution_count": 8,
      "id": "2629789d",
      "metadata": {
        "colab": {
          "base_uri": "https://localhost:8080/"
        },
        "id": "2629789d",
        "outputId": "9e02d826-495e-4d5c-9e5d-9836bf0a796d"
      },
      "outputs": [
        {
          "data": {
            "text/plain": [
              "array([[1068,   45],\n",
              "       [ 108,  107]])"
            ]
          },
          "execution_count": 8,
          "metadata": {},
          "output_type": "execute_result"
        }
      ],
      "source": [
        "confusion_matrix(y_test, y_pred)"
      ]
    },
    {
      "cell_type": "code",
      "execution_count": 9,
      "id": "TZtVAmtP4IZv",
      "metadata": {
        "colab": {
          "base_uri": "https://localhost:8080/"
        },
        "id": "TZtVAmtP4IZv",
        "outputId": "bac03bd7-c73d-4727-967e-3b40d37fd8ad"
      },
      "outputs": [
        {
          "data": {
            "text/plain": [
              "0.5290400697396916"
            ]
          },
          "execution_count": 9,
          "metadata": {},
          "output_type": "execute_result"
        }
      ],
      "source": [
        "from sklearn.metrics import matthews_corrcoef\n",
        "matthews_corrcoef(y_test, y_pred)"
      ]
    },
    {
      "cell_type": "markdown",
      "id": "c8b2abc6",
      "metadata": {
        "id": "c8b2abc6"
      },
      "source": [
        "As seen the number of false negative is high in above dataset, its around 77% wrong prediction for dead prediction. T\n",
        "Therefore we will use SMOTE model to genrate and upsample the minor class in out target dataset. "
      ]
    },
    {
      "cell_type": "code",
      "execution_count": 10,
      "id": "2470ba14",
      "metadata": {
        "id": "2470ba14"
      },
      "outputs": [],
      "source": [
        "# transform the dataset\n",
        "oversample = SMOTE()\n",
        "X_smote, y_smote = oversample.fit_resample(X, y)"
      ]
    },
    {
      "cell_type": "code",
      "execution_count": 11,
      "id": "c6b8ddbe",
      "metadata": {
        "colab": {
          "base_uri": "https://localhost:8080/",
          "height": 369
        },
        "id": "c6b8ddbe",
        "outputId": "1cb546ca-7062-4642-8455-7b19bca9a907"
      },
      "outputs": [
        {
          "data": {
            "image/png": "[encoded data removed]",
            "text/plain": [
              "<Figure size 360x360 with 1 Axes>"
            ]
          },
          "metadata": {
            "needs_background": "light"
          },
          "output_type": "display_data"
        }
      ],
      "source": [
        " sns.catplot(x='Status',data=y_smote,kind=\"count\");"
      ]
    },
    {
      "cell_type": "markdown",
      "id": "17e9ad5d",
      "metadata": {
        "id": "17e9ad5d"
      },
      "source": [
        "As seen in above histogram the taget has balanced distribuation."
      ]
    },
    {
      "cell_type": "code",
      "execution_count": 12,
      "id": "ed98d583",
      "metadata": {
        "id": "ed98d583"
      },
      "outputs": [],
      "source": [
        "#devide the new upsampled data to train and test\n",
        "X_train_smote, X_test_smote, y_train_smote, y_test_smote = train_test_split(X_smote,y_smote, test_size=0.33, random_state=41)"
      ]
    },
    {
      "cell_type": "code",
      "execution_count": 13,
      "id": "360a0315",
      "metadata": {
        "colab": {
          "base_uri": "https://localhost:8080/"
        },
        "id": "360a0315",
        "outputId": "dfd54e9a-9fb5-479f-ce49-7e5795c6f901"
      },
      "outputs": [
        {
          "name": "stderr",
          "output_type": "stream",
          "text": [
            "/Users/nakisaabbasi/anaconda3/lib/python3.7/site-packages/ipykernel_launcher.py:2: DataConversionWarning: A column-vector y was passed when a 1d array was expected. Please change the shape of y to (n_samples,), for example using ravel().\n",
            "  \n"
          ]
        },
        {
          "data": {
            "text/plain": [
              "0.9097639981490051"
            ]
          },
          "execution_count": 13,
          "metadata": {},
          "output_type": "execute_result"
        }
      ],
      "source": [
        "clf = RandomForestClassifier(n_estimators=10)\n",
        "clf.fit(X_train_smote, y_train_smote)\n",
        "y_pred_smote = clf.predict(X_test_smote)\n",
        "f1_score(y_test_smote, y_pred_smote)"
      ]
    },
    {
      "cell_type": "markdown",
      "id": "78301605",
      "metadata": {
        "id": "78301605"
      },
      "source": [
        "We got a better score comparing to out dataset without any synthetic data."
      ]
    },
    {
      "cell_type": "code",
      "execution_count": 14,
      "id": "c4dd914b",
      "metadata": {
        "colab": {
          "base_uri": "https://localhost:8080/"
        },
        "id": "c4dd914b",
        "outputId": "8bf7054a-2c9e-4ea6-94c8-9f339906dee4"
      },
      "outputs": [
        {
          "data": {
            "text/plain": [
              "array([[1072,   64],\n",
              "       [ 131,  983]])"
            ]
          },
          "execution_count": 14,
          "metadata": {},
          "output_type": "execute_result"
        }
      ],
      "source": [
        "confusion_matrix(y_test_smote, y_pred_smote)"
      ]
    },
    {
      "cell_type": "code",
      "execution_count": 15,
      "id": "8mRQ2Gzo4pjW",
      "metadata": {
        "colab": {
          "base_uri": "https://localhost:8080/"
        },
        "id": "8mRQ2Gzo4pjW",
        "outputId": "f31580a5-e3ba-4bf6-ce58-dfff230aecb2"
      },
      "outputs": [
        {
          "data": {
            "text/plain": [
              "0.8280208194511864"
            ]
          },
          "execution_count": 15,
          "metadata": {},
          "output_type": "execute_result"
        }
      ],
      "source": [
        "matthews_corrcoef(y_test_smote, y_pred_smote)"
      ]
    },
    {
      "cell_type": "markdown",
      "id": "fb598f6d",
      "metadata": {
        "id": "fb598f6d"
      },
      "source": [
        "As seen in the confusion matrix the number of false negative decreased and not, the wrong prediction is around 15%."
      ]
    },
    {
      "cell_type": "code",
      "execution_count": 16,
      "id": "129c3dba",
      "metadata": {
        "id": "129c3dba"
      },
      "outputs": [],
      "source": [
        "synthetic_data = pd.concat([pd.DataFrame(X_smote), pd.DataFrame(y_smote)],axis = 1)"
      ]
    },
    {
      "cell_type": "code",
      "execution_count": 17,
      "id": "4b21ca34",
      "metadata": {
        "colab": {
          "base_uri": "https://localhost:8080/",
          "height": 261
        },
        "id": "4b21ca34",
        "outputId": "20854867-2656-43b1-f270-151fe750eda2"
      },
      "outputs": [
        {
          "data": {
            "text/html": [
              "<div>\n",
              "<style scoped>\n",
              "    .dataframe tbody tr th:only-of-type {\n",
              "        vertical-align: middle;\n",
              "    }\n",
              "\n",
              "    .dataframe tbody tr th {\n",
              "        vertical-align: top;\n",
              "    }\n",
              "\n",
              "    .dataframe thead th {\n",
              "        text-align: right;\n",
              "    }\n",
              "</style>\n",
              "<table border=\"1\" class=\"dataframe\">\n",
              "  <thead>\n",
              "    <tr style=\"text-align: right;\">\n",
              "      <th></th>\n",
              "      <th>Age</th>\n",
              "      <th>Tumor Size</th>\n",
              "      <th>Regional Node Examined</th>\n",
              "      <th>Reginol Node Positive</th>\n",
              "      <th>Survival Months</th>\n",
              "      <th>Race_Other</th>\n",
              "      <th>Race_White</th>\n",
              "      <th>Marital Status_Married</th>\n",
              "      <th>Marital Status_Separated</th>\n",
              "      <th>Marital Status_Single</th>\n",
              "      <th>...</th>\n",
              "      <th>6th Stage_IIIA</th>\n",
              "      <th>6th Stage_IIIB</th>\n",
              "      <th>6th Stage_IIIC</th>\n",
              "      <th>Grade_Grade II</th>\n",
              "      <th>Grade_Grade III</th>\n",
              "      <th>Grade_anaplastic</th>\n",
              "      <th>A Stage_Regional</th>\n",
              "      <th>Estrogen Status_Positive</th>\n",
              "      <th>Progesterone Status_Positive</th>\n",
              "      <th>Status</th>\n",
              "    </tr>\n",
              "  </thead>\n",
              "  <tbody>\n",
              "    <tr>\n",
              "      <th>6811</th>\n",
              "      <td>50</td>\n",
              "      <td>22</td>\n",
              "      <td>26</td>\n",
              "      <td>26</td>\n",
              "      <td>45</td>\n",
              "      <td>0</td>\n",
              "      <td>1</td>\n",
              "      <td>1</td>\n",
              "      <td>0</td>\n",
              "      <td>0</td>\n",
              "      <td>...</td>\n",
              "      <td>0</td>\n",
              "      <td>0</td>\n",
              "      <td>1</td>\n",
              "      <td>0</td>\n",
              "      <td>1</td>\n",
              "      <td>0</td>\n",
              "      <td>1</td>\n",
              "      <td>1</td>\n",
              "      <td>1</td>\n",
              "      <td>1</td>\n",
              "    </tr>\n",
              "    <tr>\n",
              "      <th>6812</th>\n",
              "      <td>63</td>\n",
              "      <td>12</td>\n",
              "      <td>2</td>\n",
              "      <td>1</td>\n",
              "      <td>60</td>\n",
              "      <td>0</td>\n",
              "      <td>1</td>\n",
              "      <td>0</td>\n",
              "      <td>0</td>\n",
              "      <td>0</td>\n",
              "      <td>...</td>\n",
              "      <td>0</td>\n",
              "      <td>0</td>\n",
              "      <td>0</td>\n",
              "      <td>1</td>\n",
              "      <td>0</td>\n",
              "      <td>0</td>\n",
              "      <td>1</td>\n",
              "      <td>1</td>\n",
              "      <td>1</td>\n",
              "      <td>1</td>\n",
              "    </tr>\n",
              "    <tr>\n",
              "      <th>6813</th>\n",
              "      <td>54</td>\n",
              "      <td>14</td>\n",
              "      <td>17</td>\n",
              "      <td>9</td>\n",
              "      <td>55</td>\n",
              "      <td>0</td>\n",
              "      <td>1</td>\n",
              "      <td>0</td>\n",
              "      <td>0</td>\n",
              "      <td>0</td>\n",
              "      <td>...</td>\n",
              "      <td>0</td>\n",
              "      <td>0</td>\n",
              "      <td>0</td>\n",
              "      <td>0</td>\n",
              "      <td>0</td>\n",
              "      <td>0</td>\n",
              "      <td>1</td>\n",
              "      <td>1</td>\n",
              "      <td>1</td>\n",
              "      <td>1</td>\n",
              "    </tr>\n",
              "    <tr>\n",
              "      <th>6814</th>\n",
              "      <td>52</td>\n",
              "      <td>14</td>\n",
              "      <td>31</td>\n",
              "      <td>31</td>\n",
              "      <td>41</td>\n",
              "      <td>0</td>\n",
              "      <td>1</td>\n",
              "      <td>1</td>\n",
              "      <td>0</td>\n",
              "      <td>0</td>\n",
              "      <td>...</td>\n",
              "      <td>0</td>\n",
              "      <td>0</td>\n",
              "      <td>1</td>\n",
              "      <td>0</td>\n",
              "      <td>0</td>\n",
              "      <td>0</td>\n",
              "      <td>1</td>\n",
              "      <td>1</td>\n",
              "      <td>1</td>\n",
              "      <td>1</td>\n",
              "    </tr>\n",
              "    <tr>\n",
              "      <th>6815</th>\n",
              "      <td>63</td>\n",
              "      <td>28</td>\n",
              "      <td>7</td>\n",
              "      <td>3</td>\n",
              "      <td>65</td>\n",
              "      <td>0</td>\n",
              "      <td>1</td>\n",
              "      <td>0</td>\n",
              "      <td>0</td>\n",
              "      <td>0</td>\n",
              "      <td>...</td>\n",
              "      <td>0</td>\n",
              "      <td>0</td>\n",
              "      <td>0</td>\n",
              "      <td>0</td>\n",
              "      <td>1</td>\n",
              "      <td>0</td>\n",
              "      <td>1</td>\n",
              "      <td>1</td>\n",
              "      <td>1</td>\n",
              "      <td>1</td>\n",
              "    </tr>\n",
              "  </tbody>\n",
              "</table>\n",
              "<p>5 rows × 27 columns</p>\n",
              "</div>"
            ],
            "text/plain": [
              "      Age  Tumor Size  Regional Node Examined  Reginol Node Positive  \\\n",
              "6811   50          22                      26                     26   \n",
              "6812   63          12                       2                      1   \n",
              "6813   54          14                      17                      9   \n",
              "6814   52          14                      31                     31   \n",
              "6815   63          28                       7                      3   \n",
              "\n",
              "      Survival Months  Race_Other  Race_White  Marital Status_Married  \\\n",
              "6811               45           0           1                       1   \n",
              "6812               60           0           1                       0   \n",
              "6813               55           0           1                       0   \n",
              "6814               41           0           1                       1   \n",
              "6815               65           0           1                       0   \n",
              "\n",
              "      Marital Status_Separated  Marital Status_Single   ...    6th Stage_IIIA  \\\n",
              "6811                         0                      0   ...                 0   \n",
              "6812                         0                      0   ...                 0   \n",
              "6813                         0                      0   ...                 0   \n",
              "6814                         0                      0   ...                 0   \n",
              "6815                         0                      0   ...                 0   \n",
              "\n",
              "      6th Stage_IIIB  6th Stage_IIIC  Grade_Grade II  Grade_Grade III  \\\n",
              "6811               0               1               0                1   \n",
              "6812               0               0               1                0   \n",
              "6813               0               0               0                0   \n",
              "6814               0               1               0                0   \n",
              "6815               0               0               0                1   \n",
              "\n",
              "      Grade_anaplastic  A Stage_Regional  Estrogen Status_Positive  \\\n",
              "6811                 0                 1                         1   \n",
              "6812                 0                 1                         1   \n",
              "6813                 0                 1                         1   \n",
              "6814                 0                 1                         1   \n",
              "6815                 0                 1                         1   \n",
              "\n",
              "      Progesterone Status_Positive  Status  \n",
              "6811                             1       1  \n",
              "6812                             1       1  \n",
              "6813                             1       1  \n",
              "6814                             1       1  \n",
              "6815                             1       1  \n",
              "\n",
              "[5 rows x 27 columns]"
            ]
          },
          "execution_count": 17,
          "metadata": {},
          "output_type": "execute_result"
        }
      ],
      "source": [
        "synthetic_data.tail()"
      ]
    },
    {
      "cell_type": "code",
      "execution_count": 18,
      "id": "eba99bc9",
      "metadata": {
        "id": "eba99bc9"
      },
      "outputs": [],
      "source": [
        "# fpath = '/content/drive/My Drive/Springbaord/capston 2 project/data/bc_data_synthetic.csv'\n",
        "fpath = '../data/bc_data_synthetic.csv'\n",
        "synthetic_data.to_csv(fpath, index=False)"
      ]
    }
  ],
  "metadata": {
    "colab": {
      "include_colab_link": true,
      "name": "generate_synthetic_data.ipynb",
      "provenance": []
    },
    "kernelspec": {
      "display_name": "Python 3",
      "language": "python",
      "name": "python3"
    },
    "language_info": {
      "codemirror_mode": {
        "name": "ipython",
        "version": 3
      },
      "file_extension": ".py",
      "mimetype": "text/x-python",
      "name": "python",
      "nbconvert_exporter": "python",
      "pygments_lexer": "ipython3",
      "version": "3.7.0"
    }
  },
  "nbformat": 4,
  "nbformat_minor": 5
}
