{
 "cells": [
  {
   "cell_type": "markdown",
   "id": "8307a631",
   "metadata": {},
   "source": [
    "### In this notebook, data has been upsampled using SMOTE technique:"
   ]
  },
  {
   "cell_type": "code",
   "execution_count": 34,
   "id": "e3ffe217",
   "metadata": {},
   "outputs": [],
   "source": [
    "import matplotlib.pyplot as plt\n",
    "import pandas as pd\n",
    "import random\n",
    "import numpy as np\n",
    "import math\n",
    "\n",
    "from sklearn.metrics import confusion_matrix\n",
    "from sklearn.model_selection import train_test_split\n",
    "from sklearn.ensemble import RandomForestClassifier\n",
    "from imblearn.over_sampling import SMOTE"
   ]
  },
  {
   "cell_type": "code",
   "execution_count": 35,
   "id": "e187520d",
   "metadata": {},
   "outputs": [
    {
     "data": {
      "text/plain": [
       "(4025, 15)"
      ]
     },
     "execution_count": 35,
     "metadata": {},
     "output_type": "execute_result"
    }
   ],
   "source": [
    "#load the clean data \n",
    "df = pd.read_csv(\"../data/bc_data_cleaned.csv\", header = None)\n",
    "df.shape"
   ]
  },
  {
   "cell_type": "code",
   "execution_count": 36,
   "id": "88f56415",
   "metadata": {},
   "outputs": [],
   "source": [
    "#devide the dataset to features and target\n",
    "X = df.iloc[1:, 0:14]\n",
    "y = df.iloc[1:, 14]\n",
    "column = df.iloc[0,:]"
   ]
  },
  {
   "cell_type": "code",
   "execution_count": 37,
   "id": "336fd735",
   "metadata": {},
   "outputs": [],
   "source": [
    "#devide the data to test and train \n",
    "X_train, X_test, y_train, y_test = train_test_split(X, y, test_size=0.33, random_state=42)"
   ]
  },
  {
   "cell_type": "code",
   "execution_count": 38,
   "id": "fe97dcd8",
   "metadata": {},
   "outputs": [
    {
     "data": {
      "image/png": "[encoded data removed]",
      "text/plain": [
       "<Figure size 432x288 with 1 Axes>"
      ]
     },
     "metadata": {
      "needs_background": "light"
     },
     "output_type": "display_data"
    }
   ],
   "source": [
    "plt.hist(y_test);"
   ]
  },
  {
   "cell_type": "code",
   "execution_count": 39,
   "id": "db70a957",
   "metadata": {},
   "outputs": [
    {
     "data": {
      "text/plain": [
       "0.8975903614457831"
      ]
     },
     "execution_count": 39,
     "metadata": {},
     "output_type": "execute_result"
    }
   ],
   "source": [
    "#run random forest classification on the data \n",
    "clf = RandomForestClassifier(n_estimators=30)\n",
    "clf.fit(X_train, y_train)\n",
    "clf.score(X_test, y_test)"
   ]
  },
  {
   "cell_type": "code",
   "execution_count": 40,
   "id": "2629789d",
   "metadata": {},
   "outputs": [
    {
     "data": {
      "text/plain": [
       "array([[1083,   30],\n",
       "       [ 106,  109]])"
      ]
     },
     "execution_count": 40,
     "metadata": {},
     "output_type": "execute_result"
    }
   ],
   "source": [
    "confusion_matrix(y_test, clf.predict(X_test))"
   ]
  },
  {
   "cell_type": "markdown",
   "id": "c8b2abc6",
   "metadata": {},
   "source": [
    "As seen the number of false negative is high in above dataset therefore we will use SMOTE model to genrate and upsample the minor class in out target dataset. "
   ]
  },
  {
   "cell_type": "code",
   "execution_count": 41,
   "id": "2470ba14",
   "metadata": {},
   "outputs": [],
   "source": [
    "# transform the dataset\n",
    "oversample = SMOTE()\n",
    "X_smote, y_smote = oversample.fit_resample(X, y)"
   ]
  },
  {
   "cell_type": "code",
   "execution_count": 42,
   "id": "c6b8ddbe",
   "metadata": {},
   "outputs": [
    {
     "data": {
      "image/png": "[encoded data removed]",
      "text/plain": [
       "<Figure size 432x288 with 1 Axes>"
      ]
     },
     "metadata": {
      "needs_background": "light"
     },
     "output_type": "display_data"
    }
   ],
   "source": [
    "plt.hist(y_smote);"
   ]
  },
  {
   "cell_type": "markdown",
   "id": "17e9ad5d",
   "metadata": {},
   "source": [
    "As seen in above histogram the taget has balanced distribuation."
   ]
  },
  {
   "cell_type": "code",
   "execution_count": 43,
   "id": "ed98d583",
   "metadata": {},
   "outputs": [],
   "source": [
    "#devide the new upsampled data to train and test\n",
    "X_train, X_test, y_train, y_test = train_test_split(X_smote,y_smote, test_size=0.33, random_state=42)"
   ]
  },
  {
   "cell_type": "code",
   "execution_count": 44,
   "id": "360a0315",
   "metadata": {},
   "outputs": [
    {
     "data": {
      "text/plain": [
       "0.9431111111111111"
      ]
     },
     "execution_count": 44,
     "metadata": {},
     "output_type": "execute_result"
    }
   ],
   "source": [
    "clf = RandomForestClassifier(n_estimators=30)\n",
    "clf.fit(X_train, y_train)\n",
    "clf.score(X_test, y_test)"
   ]
  },
  {
   "cell_type": "markdown",
   "id": "78301605",
   "metadata": {},
   "source": [
    "We got a better score comparing to out dataset without any synthetic data"
   ]
  },
  {
   "cell_type": "code",
   "execution_count": 45,
   "id": "c4dd914b",
   "metadata": {},
   "outputs": [
    {
     "data": {
      "text/plain": [
       "array([[1092,   38],\n",
       "       [  90, 1030]])"
      ]
     },
     "execution_count": 45,
     "metadata": {},
     "output_type": "execute_result"
    }
   ],
   "source": [
    "confusion_matrix(y_test, clf.predict(X_test))"
   ]
  },
  {
   "cell_type": "markdown",
   "id": "fb598f6d",
   "metadata": {},
   "source": [
    "As seen in the confusion matrix the number of false negative and false positive is really low."
   ]
  },
  {
   "cell_type": "code",
   "execution_count": 46,
   "id": "129c3dba",
   "metadata": {},
   "outputs": [],
   "source": [
    "synthetic_data = pd.concat([X_smote, y_smote],axis = 1)"
   ]
  },
  {
   "cell_type": "code",
   "execution_count": 47,
   "id": "f729d859",
   "metadata": {},
   "outputs": [],
   "source": [
    "synthetic_data.columns = column"
   ]
  },
  {
   "cell_type": "code",
   "execution_count": 48,
   "id": "4b21ca34",
   "metadata": {},
   "outputs": [
    {
     "data": {
      "text/html": [
       "<div>\n",
       "<style scoped>\n",
       "    .dataframe tbody tr th:only-of-type {\n",
       "        vertical-align: middle;\n",
       "    }\n",
       "\n",
       "    .dataframe tbody tr th {\n",
       "        vertical-align: top;\n",
       "    }\n",
       "\n",
       "    .dataframe thead th {\n",
       "        text-align: right;\n",
       "    }\n",
       "</style>\n",
       "<table border=\"1\" class=\"dataframe\">\n",
       "  <thead>\n",
       "    <tr style=\"text-align: right;\">\n",
       "      <th></th>\n",
       "      <th>Age</th>\n",
       "      <th>Race</th>\n",
       "      <th>Marital Status</th>\n",
       "      <th>T Stage</th>\n",
       "      <th>N Stage</th>\n",
       "      <th>6th Stage</th>\n",
       "      <th>Grade</th>\n",
       "      <th>A Stage</th>\n",
       "      <th>Tumor Size</th>\n",
       "      <th>Estrogen Status</th>\n",
       "      <th>Progesterone Status</th>\n",
       "      <th>Regional Node Examined</th>\n",
       "      <th>Reginol Node Positive</th>\n",
       "      <th>Survival Months</th>\n",
       "      <th>Status</th>\n",
       "    </tr>\n",
       "  </thead>\n",
       "  <tbody>\n",
       "    <tr>\n",
       "      <th>6811</th>\n",
       "      <td>61.939618</td>\n",
       "      <td>2.0</td>\n",
       "      <td>4.0</td>\n",
       "      <td>1.0</td>\n",
       "      <td>0.0</td>\n",
       "      <td>1.0</td>\n",
       "      <td>0.0</td>\n",
       "      <td>1.0</td>\n",
       "      <td>38.422673</td>\n",
       "      <td>1.0</td>\n",
       "      <td>1.0</td>\n",
       "      <td>23.060382</td>\n",
       "      <td>3.0</td>\n",
       "      <td>42.543437</td>\n",
       "      <td>1</td>\n",
       "    </tr>\n",
       "    <tr>\n",
       "      <th>6812</th>\n",
       "      <td>46.0</td>\n",
       "      <td>2.0</td>\n",
       "      <td>2.316408</td>\n",
       "      <td>0.772136</td>\n",
       "      <td>0.227864</td>\n",
       "      <td>1.227864</td>\n",
       "      <td>2.316408</td>\n",
       "      <td>1.0</td>\n",
       "      <td>19.632815</td>\n",
       "      <td>1.0</td>\n",
       "      <td>1.0</td>\n",
       "      <td>7.455728</td>\n",
       "      <td>1.911456</td>\n",
       "      <td>75.316408</td>\n",
       "      <td>1</td>\n",
       "    </tr>\n",
       "    <tr>\n",
       "      <th>6813</th>\n",
       "      <td>63.936055</td>\n",
       "      <td>2.0</td>\n",
       "      <td>1.0</td>\n",
       "      <td>0.132993</td>\n",
       "      <td>2.0</td>\n",
       "      <td>4.0</td>\n",
       "      <td>0.132993</td>\n",
       "      <td>1.0</td>\n",
       "      <td>16.930952</td>\n",
       "      <td>1.0</td>\n",
       "      <td>1.0</td>\n",
       "      <td>26.265986</td>\n",
       "      <td>20.265986</td>\n",
       "      <td>66.132993</td>\n",
       "      <td>1</td>\n",
       "    </tr>\n",
       "    <tr>\n",
       "      <th>6814</th>\n",
       "      <td>66.570906</td>\n",
       "      <td>2.0</td>\n",
       "      <td>3.356359</td>\n",
       "      <td>1.0</td>\n",
       "      <td>0.785453</td>\n",
       "      <td>1.785453</td>\n",
       "      <td>0.785453</td>\n",
       "      <td>1.0</td>\n",
       "      <td>39.570906</td>\n",
       "      <td>0.214547</td>\n",
       "      <td>0.214547</td>\n",
       "      <td>7.712719</td>\n",
       "      <td>5.356359</td>\n",
       "      <td>91.716375</td>\n",
       "      <td>1</td>\n",
       "    </tr>\n",
       "    <tr>\n",
       "      <th>6815</th>\n",
       "      <td>59.288728</td>\n",
       "      <td>0.192485</td>\n",
       "      <td>3.0</td>\n",
       "      <td>0.0</td>\n",
       "      <td>1.903757</td>\n",
       "      <td>3.807515</td>\n",
       "      <td>0.0</td>\n",
       "      <td>1.0</td>\n",
       "      <td>17.711272</td>\n",
       "      <td>1.0</td>\n",
       "      <td>0.096243</td>\n",
       "      <td>16.615029</td>\n",
       "      <td>9.422544</td>\n",
       "      <td>46.711272</td>\n",
       "      <td>1</td>\n",
       "    </tr>\n",
       "  </tbody>\n",
       "</table>\n",
       "</div>"
      ],
      "text/plain": [
       "0           Age      Race Marital Status   T Stage   N Stage 6th Stage  \\\n",
       "6811  61.939618       2.0            4.0       1.0       0.0       1.0   \n",
       "6812       46.0       2.0       2.316408  0.772136  0.227864  1.227864   \n",
       "6813  63.936055       2.0            1.0  0.132993       2.0       4.0   \n",
       "6814  66.570906       2.0       3.356359       1.0  0.785453  1.785453   \n",
       "6815  59.288728  0.192485            3.0       0.0  1.903757  3.807515   \n",
       "\n",
       "0        Grade A Stage Tumor Size Estrogen Status Progesterone Status  \\\n",
       "6811       0.0     1.0  38.422673             1.0                 1.0   \n",
       "6812  2.316408     1.0  19.632815             1.0                 1.0   \n",
       "6813  0.132993     1.0  16.930952             1.0                 1.0   \n",
       "6814  0.785453     1.0  39.570906        0.214547            0.214547   \n",
       "6815       0.0     1.0  17.711272             1.0            0.096243   \n",
       "\n",
       "0    Regional Node Examined Reginol Node Positive Survival Months Status  \n",
       "6811              23.060382                   3.0       42.543437      1  \n",
       "6812               7.455728              1.911456       75.316408      1  \n",
       "6813              26.265986             20.265986       66.132993      1  \n",
       "6814               7.712719              5.356359       91.716375      1  \n",
       "6815              16.615029              9.422544       46.711272      1  "
      ]
     },
     "execution_count": 48,
     "metadata": {},
     "output_type": "execute_result"
    }
   ],
   "source": [
    "synthetic_data.tail()"
   ]
  },
  {
   "cell_type": "code",
   "execution_count": 49,
   "id": "aed50518",
   "metadata": {},
   "outputs": [
    {
     "data": {
      "text/html": [
       "<div>\n",
       "<style scoped>\n",
       "    .dataframe tbody tr th:only-of-type {\n",
       "        vertical-align: middle;\n",
       "    }\n",
       "\n",
       "    .dataframe tbody tr th {\n",
       "        vertical-align: top;\n",
       "    }\n",
       "\n",
       "    .dataframe thead th {\n",
       "        text-align: right;\n",
       "    }\n",
       "</style>\n",
       "<table border=\"1\" class=\"dataframe\">\n",
       "  <thead>\n",
       "    <tr style=\"text-align: right;\">\n",
       "      <th></th>\n",
       "      <th>Age</th>\n",
       "      <th>Race</th>\n",
       "      <th>Marital Status</th>\n",
       "      <th>T Stage</th>\n",
       "      <th>N Stage</th>\n",
       "      <th>6th Stage</th>\n",
       "      <th>Grade</th>\n",
       "      <th>A Stage</th>\n",
       "      <th>Tumor Size</th>\n",
       "      <th>Estrogen Status</th>\n",
       "      <th>Progesterone Status</th>\n",
       "      <th>Regional Node Examined</th>\n",
       "      <th>Reginol Node Positive</th>\n",
       "      <th>Survival Months</th>\n",
       "      <th>Status</th>\n",
       "    </tr>\n",
       "  </thead>\n",
       "  <tbody>\n",
       "    <tr>\n",
       "      <th>6811</th>\n",
       "      <td>61</td>\n",
       "      <td>2</td>\n",
       "      <td>4</td>\n",
       "      <td>1</td>\n",
       "      <td>0</td>\n",
       "      <td>1</td>\n",
       "      <td>0</td>\n",
       "      <td>1</td>\n",
       "      <td>38</td>\n",
       "      <td>1</td>\n",
       "      <td>1</td>\n",
       "      <td>23</td>\n",
       "      <td>3</td>\n",
       "      <td>42</td>\n",
       "      <td>1</td>\n",
       "    </tr>\n",
       "    <tr>\n",
       "      <th>6812</th>\n",
       "      <td>46</td>\n",
       "      <td>2</td>\n",
       "      <td>2</td>\n",
       "      <td>0</td>\n",
       "      <td>0</td>\n",
       "      <td>1</td>\n",
       "      <td>2</td>\n",
       "      <td>1</td>\n",
       "      <td>19</td>\n",
       "      <td>1</td>\n",
       "      <td>1</td>\n",
       "      <td>7</td>\n",
       "      <td>1</td>\n",
       "      <td>75</td>\n",
       "      <td>1</td>\n",
       "    </tr>\n",
       "    <tr>\n",
       "      <th>6813</th>\n",
       "      <td>63</td>\n",
       "      <td>2</td>\n",
       "      <td>1</td>\n",
       "      <td>0</td>\n",
       "      <td>2</td>\n",
       "      <td>4</td>\n",
       "      <td>0</td>\n",
       "      <td>1</td>\n",
       "      <td>16</td>\n",
       "      <td>1</td>\n",
       "      <td>1</td>\n",
       "      <td>26</td>\n",
       "      <td>20</td>\n",
       "      <td>66</td>\n",
       "      <td>1</td>\n",
       "    </tr>\n",
       "    <tr>\n",
       "      <th>6814</th>\n",
       "      <td>66</td>\n",
       "      <td>2</td>\n",
       "      <td>3</td>\n",
       "      <td>1</td>\n",
       "      <td>0</td>\n",
       "      <td>1</td>\n",
       "      <td>0</td>\n",
       "      <td>1</td>\n",
       "      <td>39</td>\n",
       "      <td>0</td>\n",
       "      <td>0</td>\n",
       "      <td>7</td>\n",
       "      <td>5</td>\n",
       "      <td>91</td>\n",
       "      <td>1</td>\n",
       "    </tr>\n",
       "    <tr>\n",
       "      <th>6815</th>\n",
       "      <td>59</td>\n",
       "      <td>0</td>\n",
       "      <td>3</td>\n",
       "      <td>0</td>\n",
       "      <td>1</td>\n",
       "      <td>3</td>\n",
       "      <td>0</td>\n",
       "      <td>1</td>\n",
       "      <td>17</td>\n",
       "      <td>1</td>\n",
       "      <td>0</td>\n",
       "      <td>16</td>\n",
       "      <td>9</td>\n",
       "      <td>46</td>\n",
       "      <td>1</td>\n",
       "    </tr>\n",
       "  </tbody>\n",
       "</table>\n",
       "</div>"
      ],
      "text/plain": [
       "0     Age  Race  Marital Status  T Stage  N Stage  6th Stage  Grade  A Stage  \\\n",
       "6811   61     2               4        1        0          1      0        1   \n",
       "6812   46     2               2        0        0          1      2        1   \n",
       "6813   63     2               1        0        2          4      0        1   \n",
       "6814   66     2               3        1        0          1      0        1   \n",
       "6815   59     0               3        0        1          3      0        1   \n",
       "\n",
       "0     Tumor Size  Estrogen Status  Progesterone Status  \\\n",
       "6811          38                1                    1   \n",
       "6812          19                1                    1   \n",
       "6813          16                1                    1   \n",
       "6814          39                0                    0   \n",
       "6815          17                1                    0   \n",
       "\n",
       "0     Regional Node Examined  Reginol Node Positive  Survival Months  Status  \n",
       "6811                      23                      3               42       1  \n",
       "6812                       7                      1               75       1  \n",
       "6813                      26                     20               66       1  \n",
       "6814                       7                      5               91       1  \n",
       "6815                      16                      9               46       1  "
      ]
     },
     "execution_count": 49,
     "metadata": {},
     "output_type": "execute_result"
    }
   ],
   "source": [
    "df_numerical = synthetic_data.astype(int)\n",
    "df_numerical.tail()"
   ]
  },
  {
   "cell_type": "code",
   "execution_count": 50,
   "id": "eba99bc9",
   "metadata": {},
   "outputs": [],
   "source": [
    "fpath = '../data/bc_data_synthetic.csv'\n",
    "df_numerical.to_csv(fpath, index=False)"
   ]
  },
  {
   "cell_type": "code",
   "execution_count": null,
   "id": "b50d16e1",
   "metadata": {},
   "outputs": [],
   "source": []
  },
  {
   "cell_type": "code",
   "execution_count": null,
   "id": "22e9fab7",
   "metadata": {},
   "outputs": [],
   "source": []
  }
 ],
 "metadata": {
  "kernelspec": {
   "display_name": "Python 3 (ipykernel)",
   "language": "python",
   "name": "python3"
  },
  "language_info": {
   "codemirror_mode": {
    "name": "ipython",
    "version": 3
   },
   "file_extension": ".py",
   "mimetype": "text/x-python",
   "name": "python",
   "nbconvert_exporter": "python",
   "pygments_lexer": "ipython3",
   "version": "3.8.11"
  }
 },
 "nbformat": 4,
 "nbformat_minor": 5
}
